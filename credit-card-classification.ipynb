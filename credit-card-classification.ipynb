{
 "cells": [
  {
   "cell_type": "markdown",
   "id": "84efc5af-f3d8-4eb2-801a-7a6465967f41",
   "metadata": {},
   "source": [
    "## credit card default prediction\n",
    "### This repo is about predicting which user will cause credit card default based on their behavior using KNN, Decision tree, and Neural network"
   ]
  },
  {
   "cell_type": "code",
   "execution_count": 1,
   "id": "881c9a70-b3cb-4fb8-bdc9-4b988fd532f3",
   "metadata": {},
   "outputs": [],
   "source": [
    "import sklearn\n",
    "import sklearn.model_selection\n",
    "import sklearn.metrics\n",
    "import pandas\n",
    "df=pandas.read_csv(\"creditCardDefaultReduced.csv\")"
   ]
  },
  {
   "cell_type": "code",
   "execution_count": 2,
   "id": "041b7592-10a9-4c1c-a278-5a362d7f3525",
   "metadata": {},
   "outputs": [],
   "source": [
    "import numpy\n",
    "numpy.random.seed( 30 )"
   ]
  },
  {
   "cell_type": "code",
   "execution_count": 3,
   "id": "3eaa17a0-f9bf-4ad7-a9c8-2e45dd3b5afe",
   "metadata": {},
   "outputs": [
    {
     "data": {
      "text/html": [
       "<div>\n",
       "<style scoped>\n",
       "    .dataframe tbody tr th:only-of-type {\n",
       "        vertical-align: middle;\n",
       "    }\n",
       "\n",
       "    .dataframe tbody tr th {\n",
       "        vertical-align: top;\n",
       "    }\n",
       "\n",
       "    .dataframe thead th {\n",
       "        text-align: right;\n",
       "    }\n",
       "</style>\n",
       "<table border=\"1\" class=\"dataframe\">\n",
       "  <thead>\n",
       "    <tr style=\"text-align: right;\">\n",
       "      <th></th>\n",
       "      <th>Limit_Bal</th>\n",
       "      <th>Education</th>\n",
       "      <th>Marriage</th>\n",
       "      <th>Age</th>\n",
       "      <th>Pay_0</th>\n",
       "      <th>Bill_Amt1</th>\n",
       "      <th>Pay_Amt1</th>\n",
       "      <th>Payment</th>\n",
       "      <th>Card</th>\n",
       "    </tr>\n",
       "  </thead>\n",
       "  <tbody>\n",
       "    <tr>\n",
       "      <th>0</th>\n",
       "      <td>20000</td>\n",
       "      <td>University</td>\n",
       "      <td>married</td>\n",
       "      <td>24</td>\n",
       "      <td>Delay2</td>\n",
       "      <td>3913</td>\n",
       "      <td>0</td>\n",
       "      <td>Missed</td>\n",
       "      <td>Normal</td>\n",
       "    </tr>\n",
       "    <tr>\n",
       "      <th>1</th>\n",
       "      <td>120000</td>\n",
       "      <td>University</td>\n",
       "      <td>single</td>\n",
       "      <td>26</td>\n",
       "      <td>ontime</td>\n",
       "      <td>2682</td>\n",
       "      <td>0</td>\n",
       "      <td>Missed</td>\n",
       "      <td>Normal</td>\n",
       "    </tr>\n",
       "    <tr>\n",
       "      <th>2</th>\n",
       "      <td>90000</td>\n",
       "      <td>University</td>\n",
       "      <td>single</td>\n",
       "      <td>34</td>\n",
       "      <td>Delay0</td>\n",
       "      <td>29239</td>\n",
       "      <td>1518</td>\n",
       "      <td>Paid</td>\n",
       "      <td>Normal</td>\n",
       "    </tr>\n",
       "    <tr>\n",
       "      <th>3</th>\n",
       "      <td>50000</td>\n",
       "      <td>University</td>\n",
       "      <td>married</td>\n",
       "      <td>37</td>\n",
       "      <td>Delay0</td>\n",
       "      <td>46990</td>\n",
       "      <td>2000</td>\n",
       "      <td>Paid</td>\n",
       "      <td>Normal</td>\n",
       "    </tr>\n",
       "    <tr>\n",
       "      <th>4</th>\n",
       "      <td>50000</td>\n",
       "      <td>University</td>\n",
       "      <td>married</td>\n",
       "      <td>57</td>\n",
       "      <td>ontime</td>\n",
       "      <td>8617</td>\n",
       "      <td>2000</td>\n",
       "      <td>Paid</td>\n",
       "      <td>Gold</td>\n",
       "    </tr>\n",
       "    <tr>\n",
       "      <th>...</th>\n",
       "      <td>...</td>\n",
       "      <td>...</td>\n",
       "      <td>...</td>\n",
       "      <td>...</td>\n",
       "      <td>...</td>\n",
       "      <td>...</td>\n",
       "      <td>...</td>\n",
       "      <td>...</td>\n",
       "      <td>...</td>\n",
       "    </tr>\n",
       "    <tr>\n",
       "      <th>29995</th>\n",
       "      <td>220000</td>\n",
       "      <td>High school</td>\n",
       "      <td>married</td>\n",
       "      <td>39</td>\n",
       "      <td>Delay0</td>\n",
       "      <td>188948</td>\n",
       "      <td>8500</td>\n",
       "      <td>Paid</td>\n",
       "      <td>Gold</td>\n",
       "    </tr>\n",
       "    <tr>\n",
       "      <th>29996</th>\n",
       "      <td>150000</td>\n",
       "      <td>High school</td>\n",
       "      <td>single</td>\n",
       "      <td>43</td>\n",
       "      <td>ontime</td>\n",
       "      <td>1683</td>\n",
       "      <td>1837</td>\n",
       "      <td>Paid</td>\n",
       "      <td>Gold</td>\n",
       "    </tr>\n",
       "    <tr>\n",
       "      <th>29997</th>\n",
       "      <td>30000</td>\n",
       "      <td>University</td>\n",
       "      <td>single</td>\n",
       "      <td>37</td>\n",
       "      <td>Delay4</td>\n",
       "      <td>3565</td>\n",
       "      <td>0</td>\n",
       "      <td>Missed</td>\n",
       "      <td>Gold</td>\n",
       "    </tr>\n",
       "    <tr>\n",
       "      <th>29998</th>\n",
       "      <td>80000</td>\n",
       "      <td>High school</td>\n",
       "      <td>married</td>\n",
       "      <td>41</td>\n",
       "      <td>Delay1</td>\n",
       "      <td>-1645</td>\n",
       "      <td>85900</td>\n",
       "      <td>Missed</td>\n",
       "      <td>Gold</td>\n",
       "    </tr>\n",
       "    <tr>\n",
       "      <th>29999</th>\n",
       "      <td>50000</td>\n",
       "      <td>University</td>\n",
       "      <td>married</td>\n",
       "      <td>46</td>\n",
       "      <td>Delay0</td>\n",
       "      <td>47929</td>\n",
       "      <td>2078</td>\n",
       "      <td>Missed</td>\n",
       "      <td>Gold</td>\n",
       "    </tr>\n",
       "  </tbody>\n",
       "</table>\n",
       "<p>30000 rows × 9 columns</p>\n",
       "</div>"
      ],
      "text/plain": [
       "       Limit_Bal    Education Marriage  Age   Pay_0  Bill_Amt1  Pay_Amt1  \\\n",
       "0          20000   University  married   24  Delay2       3913         0   \n",
       "1         120000   University   single   26  ontime       2682         0   \n",
       "2          90000   University   single   34  Delay0      29239      1518   \n",
       "3          50000   University  married   37  Delay0      46990      2000   \n",
       "4          50000   University  married   57  ontime       8617      2000   \n",
       "...          ...          ...      ...  ...     ...        ...       ...   \n",
       "29995     220000  High school  married   39  Delay0     188948      8500   \n",
       "29996     150000  High school   single   43  ontime       1683      1837   \n",
       "29997      30000   University   single   37  Delay4       3565         0   \n",
       "29998      80000  High school  married   41  Delay1      -1645     85900   \n",
       "29999      50000   University  married   46  Delay0      47929      2078   \n",
       "\n",
       "      Payment    Card  \n",
       "0      Missed  Normal  \n",
       "1      Missed  Normal  \n",
       "2        Paid  Normal  \n",
       "3        Paid  Normal  \n",
       "4        Paid    Gold  \n",
       "...       ...     ...  \n",
       "29995    Paid    Gold  \n",
       "29996    Paid    Gold  \n",
       "29997  Missed    Gold  \n",
       "29998  Missed    Gold  \n",
       "29999  Missed    Gold  \n",
       "\n",
       "[30000 rows x 9 columns]"
      ]
     },
     "execution_count": 3,
     "metadata": {},
     "output_type": "execute_result"
    }
   ],
   "source": [
    "df"
   ]
  },
  {
   "cell_type": "code",
   "execution_count": 4,
   "id": "0ee1417b-476b-492c-b0aa-5b87729daf9c",
   "metadata": {},
   "outputs": [
    {
     "data": {
      "text/plain": [
       "Limit_Bal     int64\n",
       "Education    object\n",
       "Marriage     object\n",
       "Age           int64\n",
       "Pay_0        object\n",
       "Bill_Amt1     int64\n",
       "Pay_Amt1      int64\n",
       "Payment      object\n",
       "Card         object\n",
       "dtype: object"
      ]
     },
     "execution_count": 4,
     "metadata": {},
     "output_type": "execute_result"
    }
   ],
   "source": [
    "df.dtypes"
   ]
  },
  {
   "cell_type": "code",
   "execution_count": 5,
   "id": "a10518f5-f397-4b34-96d3-6b6f26ad743b",
   "metadata": {},
   "outputs": [
    {
     "data": {
      "text/html": [
       "<div>\n",
       "<style scoped>\n",
       "    .dataframe tbody tr th:only-of-type {\n",
       "        vertical-align: middle;\n",
       "    }\n",
       "\n",
       "    .dataframe tbody tr th {\n",
       "        vertical-align: top;\n",
       "    }\n",
       "\n",
       "    .dataframe thead th {\n",
       "        text-align: right;\n",
       "    }\n",
       "</style>\n",
       "<table border=\"1\" class=\"dataframe\">\n",
       "  <thead>\n",
       "    <tr style=\"text-align: right;\">\n",
       "      <th></th>\n",
       "      <th>Limit_Bal</th>\n",
       "      <th>Age</th>\n",
       "      <th>Bill_Amt1</th>\n",
       "      <th>Pay_Amt1</th>\n",
       "    </tr>\n",
       "  </thead>\n",
       "  <tbody>\n",
       "    <tr>\n",
       "      <th>count</th>\n",
       "      <td>30000.000000</td>\n",
       "      <td>30000.000000</td>\n",
       "      <td>30000.000000</td>\n",
       "      <td>30000.000000</td>\n",
       "    </tr>\n",
       "    <tr>\n",
       "      <th>mean</th>\n",
       "      <td>167484.322667</td>\n",
       "      <td>35.485500</td>\n",
       "      <td>51223.330900</td>\n",
       "      <td>5663.580500</td>\n",
       "    </tr>\n",
       "    <tr>\n",
       "      <th>std</th>\n",
       "      <td>129747.661567</td>\n",
       "      <td>9.217904</td>\n",
       "      <td>73635.860576</td>\n",
       "      <td>16563.280354</td>\n",
       "    </tr>\n",
       "    <tr>\n",
       "      <th>min</th>\n",
       "      <td>10000.000000</td>\n",
       "      <td>21.000000</td>\n",
       "      <td>-165580.000000</td>\n",
       "      <td>0.000000</td>\n",
       "    </tr>\n",
       "    <tr>\n",
       "      <th>25%</th>\n",
       "      <td>50000.000000</td>\n",
       "      <td>28.000000</td>\n",
       "      <td>3558.750000</td>\n",
       "      <td>1000.000000</td>\n",
       "    </tr>\n",
       "    <tr>\n",
       "      <th>50%</th>\n",
       "      <td>140000.000000</td>\n",
       "      <td>34.000000</td>\n",
       "      <td>22381.500000</td>\n",
       "      <td>2100.000000</td>\n",
       "    </tr>\n",
       "    <tr>\n",
       "      <th>75%</th>\n",
       "      <td>240000.000000</td>\n",
       "      <td>41.000000</td>\n",
       "      <td>67091.000000</td>\n",
       "      <td>5006.000000</td>\n",
       "    </tr>\n",
       "    <tr>\n",
       "      <th>max</th>\n",
       "      <td>1000000.000000</td>\n",
       "      <td>79.000000</td>\n",
       "      <td>964511.000000</td>\n",
       "      <td>873552.000000</td>\n",
       "    </tr>\n",
       "  </tbody>\n",
       "</table>\n",
       "</div>"
      ],
      "text/plain": [
       "            Limit_Bal           Age      Bill_Amt1       Pay_Amt1\n",
       "count    30000.000000  30000.000000   30000.000000   30000.000000\n",
       "mean    167484.322667     35.485500   51223.330900    5663.580500\n",
       "std     129747.661567      9.217904   73635.860576   16563.280354\n",
       "min      10000.000000     21.000000 -165580.000000       0.000000\n",
       "25%      50000.000000     28.000000    3558.750000    1000.000000\n",
       "50%     140000.000000     34.000000   22381.500000    2100.000000\n",
       "75%     240000.000000     41.000000   67091.000000    5006.000000\n",
       "max    1000000.000000     79.000000  964511.000000  873552.000000"
      ]
     },
     "execution_count": 5,
     "metadata": {},
     "output_type": "execute_result"
    }
   ],
   "source": [
    "# summary stats\n",
    "df.describe()"
   ]
  },
  {
   "cell_type": "code",
   "execution_count": 6,
   "id": "ff7df209-cb75-4ec1-a350-f9bf64643c14",
   "metadata": {},
   "outputs": [],
   "source": [
    "# run a classification model on \"Payment\" - to predict who is likely to default on a loan\n",
    "outcome = df['Payment']"
   ]
  },
  {
   "cell_type": "code",
   "execution_count": 7,
   "id": "51dda120-33c2-4c29-ada8-530c02e6076f",
   "metadata": {},
   "outputs": [
    {
     "data": {
      "text/html": [
       "<div>\n",
       "<style scoped>\n",
       "    .dataframe tbody tr th:only-of-type {\n",
       "        vertical-align: middle;\n",
       "    }\n",
       "\n",
       "    .dataframe tbody tr th {\n",
       "        vertical-align: top;\n",
       "    }\n",
       "\n",
       "    .dataframe thead th {\n",
       "        text-align: right;\n",
       "    }\n",
       "</style>\n",
       "<table border=\"1\" class=\"dataframe\">\n",
       "  <thead>\n",
       "    <tr style=\"text-align: right;\">\n",
       "      <th></th>\n",
       "      <th>Limit_Bal</th>\n",
       "      <th>Bill_Amt1</th>\n",
       "      <th>Pay_Amt1</th>\n",
       "      <th>Age</th>\n",
       "    </tr>\n",
       "  </thead>\n",
       "  <tbody>\n",
       "    <tr>\n",
       "      <th>0</th>\n",
       "      <td>0.000545</td>\n",
       "      <td>0.000252</td>\n",
       "      <td>0.000000</td>\n",
       "      <td>0.003779</td>\n",
       "    </tr>\n",
       "    <tr>\n",
       "      <th>1</th>\n",
       "      <td>0.003270</td>\n",
       "      <td>0.000173</td>\n",
       "      <td>0.000000</td>\n",
       "      <td>0.004094</td>\n",
       "    </tr>\n",
       "    <tr>\n",
       "      <th>2</th>\n",
       "      <td>0.002453</td>\n",
       "      <td>0.001882</td>\n",
       "      <td>0.000501</td>\n",
       "      <td>0.005354</td>\n",
       "    </tr>\n",
       "    <tr>\n",
       "      <th>3</th>\n",
       "      <td>0.001363</td>\n",
       "      <td>0.003025</td>\n",
       "      <td>0.000660</td>\n",
       "      <td>0.005827</td>\n",
       "    </tr>\n",
       "    <tr>\n",
       "      <th>4</th>\n",
       "      <td>0.001363</td>\n",
       "      <td>0.000555</td>\n",
       "      <td>0.000660</td>\n",
       "      <td>0.008976</td>\n",
       "    </tr>\n",
       "    <tr>\n",
       "      <th>...</th>\n",
       "      <td>...</td>\n",
       "      <td>...</td>\n",
       "      <td>...</td>\n",
       "      <td>...</td>\n",
       "    </tr>\n",
       "    <tr>\n",
       "      <th>29995</th>\n",
       "      <td>0.005995</td>\n",
       "      <td>0.012162</td>\n",
       "      <td>0.002804</td>\n",
       "      <td>0.006141</td>\n",
       "    </tr>\n",
       "    <tr>\n",
       "      <th>29996</th>\n",
       "      <td>0.004088</td>\n",
       "      <td>0.000108</td>\n",
       "      <td>0.000606</td>\n",
       "      <td>0.006771</td>\n",
       "    </tr>\n",
       "    <tr>\n",
       "      <th>29997</th>\n",
       "      <td>0.000818</td>\n",
       "      <td>0.000229</td>\n",
       "      <td>0.000000</td>\n",
       "      <td>0.005827</td>\n",
       "    </tr>\n",
       "    <tr>\n",
       "      <th>29998</th>\n",
       "      <td>0.002180</td>\n",
       "      <td>-0.000106</td>\n",
       "      <td>0.028332</td>\n",
       "      <td>0.006456</td>\n",
       "    </tr>\n",
       "    <tr>\n",
       "      <th>29999</th>\n",
       "      <td>0.001363</td>\n",
       "      <td>0.003085</td>\n",
       "      <td>0.000685</td>\n",
       "      <td>0.007244</td>\n",
       "    </tr>\n",
       "  </tbody>\n",
       "</table>\n",
       "<p>30000 rows × 4 columns</p>\n",
       "</div>"
      ],
      "text/plain": [
       "       Limit_Bal  Bill_Amt1  Pay_Amt1       Age\n",
       "0       0.000545   0.000252  0.000000  0.003779\n",
       "1       0.003270   0.000173  0.000000  0.004094\n",
       "2       0.002453   0.001882  0.000501  0.005354\n",
       "3       0.001363   0.003025  0.000660  0.005827\n",
       "4       0.001363   0.000555  0.000660  0.008976\n",
       "...          ...        ...       ...       ...\n",
       "29995   0.005995   0.012162  0.002804  0.006141\n",
       "29996   0.004088   0.000108  0.000606  0.006771\n",
       "29997   0.000818   0.000229  0.000000  0.005827\n",
       "29998   0.002180  -0.000106  0.028332  0.006456\n",
       "29999   0.001363   0.003085  0.000685  0.007244\n",
       "\n",
       "[30000 rows x 4 columns]"
      ]
     },
     "execution_count": 7,
     "metadata": {},
     "output_type": "execute_result"
    }
   ],
   "source": [
    "#normalize predictors\n",
    "numericFeatures = df[ [ 'Limit_Bal', 'Bill_Amt1', 'Pay_Amt1', 'Age' ]] \n",
    "numericFeatures = numericFeatures / numpy.linalg.norm(numericFeatures, axis=0)\n",
    "numericFeatures"
   ]
  },
  {
   "cell_type": "code",
   "execution_count": 8,
   "id": "097f3dc1-1cf2-42a7-8586-22a0b501f0b3",
   "metadata": {},
   "outputs": [],
   "source": [
    "# Dummy variable \n",
    "dummiesPay_0 = pandas.get_dummies( df['Pay_0'], prefix=\"Pay_0\", drop_first=True)"
   ]
  },
  {
   "cell_type": "code",
   "execution_count": 9,
   "id": "db0406f1-5b8c-41fb-9d3c-e0c801c9c876",
   "metadata": {},
   "outputs": [
    {
     "data": {
      "text/html": [
       "<div>\n",
       "<style scoped>\n",
       "    .dataframe tbody tr th:only-of-type {\n",
       "        vertical-align: middle;\n",
       "    }\n",
       "\n",
       "    .dataframe tbody tr th {\n",
       "        vertical-align: top;\n",
       "    }\n",
       "\n",
       "    .dataframe thead th {\n",
       "        text-align: right;\n",
       "    }\n",
       "</style>\n",
       "<table border=\"1\" class=\"dataframe\">\n",
       "  <thead>\n",
       "    <tr style=\"text-align: right;\">\n",
       "      <th></th>\n",
       "      <th>Pay_0_Delay1</th>\n",
       "      <th>Pay_0_Delay2</th>\n",
       "      <th>Pay_0_Delay3</th>\n",
       "      <th>Pay_0_Delay4</th>\n",
       "      <th>Pay_0_Delay5</th>\n",
       "      <th>Pay_0_Delay6</th>\n",
       "      <th>Pay_0_Delay7</th>\n",
       "      <th>Pay_0_Delay8+</th>\n",
       "      <th>Pay_0_ontime</th>\n",
       "      <th>Pay_0_unknown</th>\n",
       "    </tr>\n",
       "  </thead>\n",
       "  <tbody>\n",
       "    <tr>\n",
       "      <th>0</th>\n",
       "      <td>0</td>\n",
       "      <td>1</td>\n",
       "      <td>0</td>\n",
       "      <td>0</td>\n",
       "      <td>0</td>\n",
       "      <td>0</td>\n",
       "      <td>0</td>\n",
       "      <td>0</td>\n",
       "      <td>0</td>\n",
       "      <td>0</td>\n",
       "    </tr>\n",
       "    <tr>\n",
       "      <th>1</th>\n",
       "      <td>0</td>\n",
       "      <td>0</td>\n",
       "      <td>0</td>\n",
       "      <td>0</td>\n",
       "      <td>0</td>\n",
       "      <td>0</td>\n",
       "      <td>0</td>\n",
       "      <td>0</td>\n",
       "      <td>1</td>\n",
       "      <td>0</td>\n",
       "    </tr>\n",
       "    <tr>\n",
       "      <th>2</th>\n",
       "      <td>0</td>\n",
       "      <td>0</td>\n",
       "      <td>0</td>\n",
       "      <td>0</td>\n",
       "      <td>0</td>\n",
       "      <td>0</td>\n",
       "      <td>0</td>\n",
       "      <td>0</td>\n",
       "      <td>0</td>\n",
       "      <td>0</td>\n",
       "    </tr>\n",
       "    <tr>\n",
       "      <th>3</th>\n",
       "      <td>0</td>\n",
       "      <td>0</td>\n",
       "      <td>0</td>\n",
       "      <td>0</td>\n",
       "      <td>0</td>\n",
       "      <td>0</td>\n",
       "      <td>0</td>\n",
       "      <td>0</td>\n",
       "      <td>0</td>\n",
       "      <td>0</td>\n",
       "    </tr>\n",
       "    <tr>\n",
       "      <th>4</th>\n",
       "      <td>0</td>\n",
       "      <td>0</td>\n",
       "      <td>0</td>\n",
       "      <td>0</td>\n",
       "      <td>0</td>\n",
       "      <td>0</td>\n",
       "      <td>0</td>\n",
       "      <td>0</td>\n",
       "      <td>1</td>\n",
       "      <td>0</td>\n",
       "    </tr>\n",
       "    <tr>\n",
       "      <th>...</th>\n",
       "      <td>...</td>\n",
       "      <td>...</td>\n",
       "      <td>...</td>\n",
       "      <td>...</td>\n",
       "      <td>...</td>\n",
       "      <td>...</td>\n",
       "      <td>...</td>\n",
       "      <td>...</td>\n",
       "      <td>...</td>\n",
       "      <td>...</td>\n",
       "    </tr>\n",
       "    <tr>\n",
       "      <th>29995</th>\n",
       "      <td>0</td>\n",
       "      <td>0</td>\n",
       "      <td>0</td>\n",
       "      <td>0</td>\n",
       "      <td>0</td>\n",
       "      <td>0</td>\n",
       "      <td>0</td>\n",
       "      <td>0</td>\n",
       "      <td>0</td>\n",
       "      <td>0</td>\n",
       "    </tr>\n",
       "    <tr>\n",
       "      <th>29996</th>\n",
       "      <td>0</td>\n",
       "      <td>0</td>\n",
       "      <td>0</td>\n",
       "      <td>0</td>\n",
       "      <td>0</td>\n",
       "      <td>0</td>\n",
       "      <td>0</td>\n",
       "      <td>0</td>\n",
       "      <td>1</td>\n",
       "      <td>0</td>\n",
       "    </tr>\n",
       "    <tr>\n",
       "      <th>29997</th>\n",
       "      <td>0</td>\n",
       "      <td>0</td>\n",
       "      <td>0</td>\n",
       "      <td>1</td>\n",
       "      <td>0</td>\n",
       "      <td>0</td>\n",
       "      <td>0</td>\n",
       "      <td>0</td>\n",
       "      <td>0</td>\n",
       "      <td>0</td>\n",
       "    </tr>\n",
       "    <tr>\n",
       "      <th>29998</th>\n",
       "      <td>1</td>\n",
       "      <td>0</td>\n",
       "      <td>0</td>\n",
       "      <td>0</td>\n",
       "      <td>0</td>\n",
       "      <td>0</td>\n",
       "      <td>0</td>\n",
       "      <td>0</td>\n",
       "      <td>0</td>\n",
       "      <td>0</td>\n",
       "    </tr>\n",
       "    <tr>\n",
       "      <th>29999</th>\n",
       "      <td>0</td>\n",
       "      <td>0</td>\n",
       "      <td>0</td>\n",
       "      <td>0</td>\n",
       "      <td>0</td>\n",
       "      <td>0</td>\n",
       "      <td>0</td>\n",
       "      <td>0</td>\n",
       "      <td>0</td>\n",
       "      <td>0</td>\n",
       "    </tr>\n",
       "  </tbody>\n",
       "</table>\n",
       "<p>30000 rows × 10 columns</p>\n",
       "</div>"
      ],
      "text/plain": [
       "       Pay_0_Delay1  Pay_0_Delay2  Pay_0_Delay3  Pay_0_Delay4  Pay_0_Delay5  \\\n",
       "0                 0             1             0             0             0   \n",
       "1                 0             0             0             0             0   \n",
       "2                 0             0             0             0             0   \n",
       "3                 0             0             0             0             0   \n",
       "4                 0             0             0             0             0   \n",
       "...             ...           ...           ...           ...           ...   \n",
       "29995             0             0             0             0             0   \n",
       "29996             0             0             0             0             0   \n",
       "29997             0             0             0             1             0   \n",
       "29998             1             0             0             0             0   \n",
       "29999             0             0             0             0             0   \n",
       "\n",
       "       Pay_0_Delay6  Pay_0_Delay7  Pay_0_Delay8+  Pay_0_ontime  Pay_0_unknown  \n",
       "0                 0             0              0             0              0  \n",
       "1                 0             0              0             1              0  \n",
       "2                 0             0              0             0              0  \n",
       "3                 0             0              0             0              0  \n",
       "4                 0             0              0             1              0  \n",
       "...             ...           ...            ...           ...            ...  \n",
       "29995             0             0              0             0              0  \n",
       "29996             0             0              0             1              0  \n",
       "29997             0             0              0             0              0  \n",
       "29998             0             0              0             0              0  \n",
       "29999             0             0              0             0              0  \n",
       "\n",
       "[30000 rows x 10 columns]"
      ]
     },
     "execution_count": 9,
     "metadata": {},
     "output_type": "execute_result"
    }
   ],
   "source": [
    "dummiesPay_0"
   ]
  },
  {
   "cell_type": "code",
   "execution_count": 10,
   "id": "49816cf4-bbde-41ce-b309-9343ac8b4783",
   "metadata": {},
   "outputs": [
    {
     "data": {
      "text/html": [
       "<div>\n",
       "<style scoped>\n",
       "    .dataframe tbody tr th:only-of-type {\n",
       "        vertical-align: middle;\n",
       "    }\n",
       "\n",
       "    .dataframe tbody tr th {\n",
       "        vertical-align: top;\n",
       "    }\n",
       "\n",
       "    .dataframe thead th {\n",
       "        text-align: right;\n",
       "    }\n",
       "</style>\n",
       "<table border=\"1\" class=\"dataframe\">\n",
       "  <thead>\n",
       "    <tr style=\"text-align: right;\">\n",
       "      <th></th>\n",
       "      <th>Limit_Bal</th>\n",
       "      <th>Bill_Amt1</th>\n",
       "      <th>Pay_Amt1</th>\n",
       "      <th>Age</th>\n",
       "      <th>Pay_0_Delay1</th>\n",
       "      <th>Pay_0_Delay2</th>\n",
       "      <th>Pay_0_Delay3</th>\n",
       "      <th>Pay_0_Delay4</th>\n",
       "      <th>Pay_0_Delay5</th>\n",
       "      <th>Pay_0_Delay6</th>\n",
       "      <th>Pay_0_Delay7</th>\n",
       "      <th>Pay_0_Delay8+</th>\n",
       "      <th>Pay_0_ontime</th>\n",
       "      <th>Pay_0_unknown</th>\n",
       "    </tr>\n",
       "  </thead>\n",
       "  <tbody>\n",
       "    <tr>\n",
       "      <th>0</th>\n",
       "      <td>0.000545</td>\n",
       "      <td>0.000252</td>\n",
       "      <td>0.000000</td>\n",
       "      <td>0.003779</td>\n",
       "      <td>0</td>\n",
       "      <td>1</td>\n",
       "      <td>0</td>\n",
       "      <td>0</td>\n",
       "      <td>0</td>\n",
       "      <td>0</td>\n",
       "      <td>0</td>\n",
       "      <td>0</td>\n",
       "      <td>0</td>\n",
       "      <td>0</td>\n",
       "    </tr>\n",
       "    <tr>\n",
       "      <th>1</th>\n",
       "      <td>0.003270</td>\n",
       "      <td>0.000173</td>\n",
       "      <td>0.000000</td>\n",
       "      <td>0.004094</td>\n",
       "      <td>0</td>\n",
       "      <td>0</td>\n",
       "      <td>0</td>\n",
       "      <td>0</td>\n",
       "      <td>0</td>\n",
       "      <td>0</td>\n",
       "      <td>0</td>\n",
       "      <td>0</td>\n",
       "      <td>1</td>\n",
       "      <td>0</td>\n",
       "    </tr>\n",
       "    <tr>\n",
       "      <th>2</th>\n",
       "      <td>0.002453</td>\n",
       "      <td>0.001882</td>\n",
       "      <td>0.000501</td>\n",
       "      <td>0.005354</td>\n",
       "      <td>0</td>\n",
       "      <td>0</td>\n",
       "      <td>0</td>\n",
       "      <td>0</td>\n",
       "      <td>0</td>\n",
       "      <td>0</td>\n",
       "      <td>0</td>\n",
       "      <td>0</td>\n",
       "      <td>0</td>\n",
       "      <td>0</td>\n",
       "    </tr>\n",
       "    <tr>\n",
       "      <th>3</th>\n",
       "      <td>0.001363</td>\n",
       "      <td>0.003025</td>\n",
       "      <td>0.000660</td>\n",
       "      <td>0.005827</td>\n",
       "      <td>0</td>\n",
       "      <td>0</td>\n",
       "      <td>0</td>\n",
       "      <td>0</td>\n",
       "      <td>0</td>\n",
       "      <td>0</td>\n",
       "      <td>0</td>\n",
       "      <td>0</td>\n",
       "      <td>0</td>\n",
       "      <td>0</td>\n",
       "    </tr>\n",
       "    <tr>\n",
       "      <th>4</th>\n",
       "      <td>0.001363</td>\n",
       "      <td>0.000555</td>\n",
       "      <td>0.000660</td>\n",
       "      <td>0.008976</td>\n",
       "      <td>0</td>\n",
       "      <td>0</td>\n",
       "      <td>0</td>\n",
       "      <td>0</td>\n",
       "      <td>0</td>\n",
       "      <td>0</td>\n",
       "      <td>0</td>\n",
       "      <td>0</td>\n",
       "      <td>1</td>\n",
       "      <td>0</td>\n",
       "    </tr>\n",
       "    <tr>\n",
       "      <th>...</th>\n",
       "      <td>...</td>\n",
       "      <td>...</td>\n",
       "      <td>...</td>\n",
       "      <td>...</td>\n",
       "      <td>...</td>\n",
       "      <td>...</td>\n",
       "      <td>...</td>\n",
       "      <td>...</td>\n",
       "      <td>...</td>\n",
       "      <td>...</td>\n",
       "      <td>...</td>\n",
       "      <td>...</td>\n",
       "      <td>...</td>\n",
       "      <td>...</td>\n",
       "    </tr>\n",
       "    <tr>\n",
       "      <th>29995</th>\n",
       "      <td>0.005995</td>\n",
       "      <td>0.012162</td>\n",
       "      <td>0.002804</td>\n",
       "      <td>0.006141</td>\n",
       "      <td>0</td>\n",
       "      <td>0</td>\n",
       "      <td>0</td>\n",
       "      <td>0</td>\n",
       "      <td>0</td>\n",
       "      <td>0</td>\n",
       "      <td>0</td>\n",
       "      <td>0</td>\n",
       "      <td>0</td>\n",
       "      <td>0</td>\n",
       "    </tr>\n",
       "    <tr>\n",
       "      <th>29996</th>\n",
       "      <td>0.004088</td>\n",
       "      <td>0.000108</td>\n",
       "      <td>0.000606</td>\n",
       "      <td>0.006771</td>\n",
       "      <td>0</td>\n",
       "      <td>0</td>\n",
       "      <td>0</td>\n",
       "      <td>0</td>\n",
       "      <td>0</td>\n",
       "      <td>0</td>\n",
       "      <td>0</td>\n",
       "      <td>0</td>\n",
       "      <td>1</td>\n",
       "      <td>0</td>\n",
       "    </tr>\n",
       "    <tr>\n",
       "      <th>29997</th>\n",
       "      <td>0.000818</td>\n",
       "      <td>0.000229</td>\n",
       "      <td>0.000000</td>\n",
       "      <td>0.005827</td>\n",
       "      <td>0</td>\n",
       "      <td>0</td>\n",
       "      <td>0</td>\n",
       "      <td>1</td>\n",
       "      <td>0</td>\n",
       "      <td>0</td>\n",
       "      <td>0</td>\n",
       "      <td>0</td>\n",
       "      <td>0</td>\n",
       "      <td>0</td>\n",
       "    </tr>\n",
       "    <tr>\n",
       "      <th>29998</th>\n",
       "      <td>0.002180</td>\n",
       "      <td>-0.000106</td>\n",
       "      <td>0.028332</td>\n",
       "      <td>0.006456</td>\n",
       "      <td>1</td>\n",
       "      <td>0</td>\n",
       "      <td>0</td>\n",
       "      <td>0</td>\n",
       "      <td>0</td>\n",
       "      <td>0</td>\n",
       "      <td>0</td>\n",
       "      <td>0</td>\n",
       "      <td>0</td>\n",
       "      <td>0</td>\n",
       "    </tr>\n",
       "    <tr>\n",
       "      <th>29999</th>\n",
       "      <td>0.001363</td>\n",
       "      <td>0.003085</td>\n",
       "      <td>0.000685</td>\n",
       "      <td>0.007244</td>\n",
       "      <td>0</td>\n",
       "      <td>0</td>\n",
       "      <td>0</td>\n",
       "      <td>0</td>\n",
       "      <td>0</td>\n",
       "      <td>0</td>\n",
       "      <td>0</td>\n",
       "      <td>0</td>\n",
       "      <td>0</td>\n",
       "      <td>0</td>\n",
       "    </tr>\n",
       "  </tbody>\n",
       "</table>\n",
       "<p>30000 rows × 14 columns</p>\n",
       "</div>"
      ],
      "text/plain": [
       "       Limit_Bal  Bill_Amt1  Pay_Amt1       Age  Pay_0_Delay1  Pay_0_Delay2  \\\n",
       "0       0.000545   0.000252  0.000000  0.003779             0             1   \n",
       "1       0.003270   0.000173  0.000000  0.004094             0             0   \n",
       "2       0.002453   0.001882  0.000501  0.005354             0             0   \n",
       "3       0.001363   0.003025  0.000660  0.005827             0             0   \n",
       "4       0.001363   0.000555  0.000660  0.008976             0             0   \n",
       "...          ...        ...       ...       ...           ...           ...   \n",
       "29995   0.005995   0.012162  0.002804  0.006141             0             0   \n",
       "29996   0.004088   0.000108  0.000606  0.006771             0             0   \n",
       "29997   0.000818   0.000229  0.000000  0.005827             0             0   \n",
       "29998   0.002180  -0.000106  0.028332  0.006456             1             0   \n",
       "29999   0.001363   0.003085  0.000685  0.007244             0             0   \n",
       "\n",
       "       Pay_0_Delay3  Pay_0_Delay4  Pay_0_Delay5  Pay_0_Delay6  Pay_0_Delay7  \\\n",
       "0                 0             0             0             0             0   \n",
       "1                 0             0             0             0             0   \n",
       "2                 0             0             0             0             0   \n",
       "3                 0             0             0             0             0   \n",
       "4                 0             0             0             0             0   \n",
       "...             ...           ...           ...           ...           ...   \n",
       "29995             0             0             0             0             0   \n",
       "29996             0             0             0             0             0   \n",
       "29997             0             1             0             0             0   \n",
       "29998             0             0             0             0             0   \n",
       "29999             0             0             0             0             0   \n",
       "\n",
       "       Pay_0_Delay8+  Pay_0_ontime  Pay_0_unknown  \n",
       "0                  0             0              0  \n",
       "1                  0             1              0  \n",
       "2                  0             0              0  \n",
       "3                  0             0              0  \n",
       "4                  0             1              0  \n",
       "...              ...           ...            ...  \n",
       "29995              0             0              0  \n",
       "29996              0             1              0  \n",
       "29997              0             0              0  \n",
       "29998              0             0              0  \n",
       "29999              0             0              0  \n",
       "\n",
       "[30000 rows x 14 columns]"
      ]
     },
     "execution_count": 10,
     "metadata": {},
     "output_type": "execute_result"
    }
   ],
   "source": [
    "# combine dataframes\n",
    "features = pandas.concat( [ numericFeatures, dummiesPay_0], axis=1 )\n",
    "features"
   ]
  },
  {
   "cell_type": "code",
   "execution_count": 11,
   "id": "3d3b5811-e52b-499c-b897-119070b222d6",
   "metadata": {},
   "outputs": [],
   "source": [
    "# split dataset to 80/20\n",
    "featuresTrain, featuresTest, outcomeTrain, outcomeTest = sklearn.model_selection.train_test_split(\n",
    "features, outcome, test_size=0.20 )"
   ]
  },
  {
   "cell_type": "markdown",
   "id": "81da5b5a-3e78-48c5-a302-64a054066eb3",
   "metadata": {},
   "source": [
    "### Knn\n"
   ]
  },
  {
   "cell_type": "code",
   "execution_count": 12,
   "id": "7ec19050-babe-4c67-bac6-23c6370aa414",
   "metadata": {},
   "outputs": [],
   "source": [
    "import sklearn.neighbors\n",
    "modelKnn = sklearn.neighbors.KNeighborsClassifier(n_neighbors=3) # 3 neighbors"
   ]
  },
  {
   "cell_type": "code",
   "execution_count": 13,
   "id": "db6f50b1-c24c-44e7-b34c-cdda603d2356",
   "metadata": {},
   "outputs": [],
   "source": [
    "resultKnn = modelKnn.fit( featuresTrain, outcomeTrain ) # fits model\n",
    "predKnnTest = modelKnn.predict(featuresTest) # tests model\n",
    "cmKnnTest = sklearn.metrics.confusion_matrix( outcomeTest, predKnnTest )"
   ]
  },
  {
   "cell_type": "code",
   "execution_count": 14,
   "id": "a2fdf983-14a0-4c64-bf33-f01ecc862ebd",
   "metadata": {},
   "outputs": [
    {
     "data": {
      "image/png": "[encoded data removed]",
      "text/plain": [
       "<Figure size 432x288 with 2 Axes>"
      ]
     },
     "metadata": {
      "needs_background": "light"
     },
     "output_type": "display_data"
    }
   ],
   "source": [
    "# confusion matrix\n",
    "cmKnnTest = sklearn.metrics.confusion_matrix( outcomeTest, predKnnTest )\n",
    "# print( cmKnnTest )\n",
    "conf_matrix_knn = sklearn.metrics.ConfusionMatrixDisplay( cmKnnTest, display_labels=modelKnn.classes_ ).plot()"
   ]
  },
  {
   "cell_type": "code",
   "execution_count": 15,
   "id": "eacd27af-83a1-40a2-afcf-7e13259786bc",
   "metadata": {},
   "outputs": [
    {
     "data": {
      "text/plain": [
       "0.7783333333333333"
      ]
     },
     "execution_count": 15,
     "metadata": {},
     "output_type": "execute_result"
    }
   ],
   "source": [
    "sklearn.metrics.accuracy_score( outcomeTest, predKnnTest ) "
   ]
  },
  {
   "cell_type": "code",
   "execution_count": 16,
   "id": "b471e79f-fb40-4616-b223-5cc7f978f71f",
   "metadata": {},
   "outputs": [
    {
     "data": {
      "image/png": "[encoded data removed]",
      "text/plain": [
       "<Figure size 432x288 with 2 Axes>"
      ]
     },
     "metadata": {
      "needs_background": "light"
     },
     "output_type": "display_data"
    }
   ],
   "source": [
    "# Knn with n_neighbors =11\n",
    "modelKnn = sklearn.neighbors.KNeighborsClassifier(n_neighbors=11)\n",
    "resultKnn = modelKnn.fit( featuresTrain, outcomeTrain ) # fits model\n",
    "predKnnTest = modelKnn.predict(featuresTest) # run fitted model on test set\n",
    "cmKnnTest = sklearn.metrics.confusion_matrix( outcomeTest, predKnnTest ) \n",
    "conf_matrix_knn = sklearn.metrics.ConfusionMatrixDisplay( cmKnnTest, display_labels=modelKnn.classes_ ).plot()"
   ]
  },
  {
   "cell_type": "code",
   "execution_count": 17,
   "id": "dd26025f-76b9-4bfb-bada-2e462752efa7",
   "metadata": {},
   "outputs": [
    {
     "data": {
      "text/plain": [
       "0.8181666666666667"
      ]
     },
     "execution_count": 17,
     "metadata": {},
     "output_type": "execute_result"
    }
   ],
   "source": [
    "sklearn.metrics.accuracy_score( outcomeTest, predKnnTest ) \n",
    "# much better this time "
   ]
  },
  {
   "cell_type": "markdown",
   "id": "6578074d-0894-4049-9ead-f7374e41b156",
   "metadata": {},
   "source": [
    "### Decision tree"
   ]
  },
  {
   "cell_type": "code",
   "execution_count": 18,
   "id": "3d6c966c-bfd7-4037-a742-06c9f9d04dae",
   "metadata": {},
   "outputs": [],
   "source": [
    "import sklearn.tree\n",
    "modelTree = sklearn.tree.DecisionTreeClassifier()"
   ]
  },
  {
   "cell_type": "code",
   "execution_count": 19,
   "id": "395b6884-af90-4336-ba12-51ac086d4378",
   "metadata": {},
   "outputs": [
    {
     "data": {
      "text/plain": [
       "<sklearn.metrics._plot.confusion_matrix.ConfusionMatrixDisplay at 0x149bc3970>"
      ]
     },
     "execution_count": 19,
     "metadata": {},
     "output_type": "execute_result"
    },
    {
     "data": {
      "image/png": "[encoded data removed]",
      "text/plain": [
       "<Figure size 432x288 with 2 Axes>"
      ]
     },
     "metadata": {
      "needs_background": "light"
     },
     "output_type": "display_data"
    }
   ],
   "source": [
    "resultTree = modelTree.fit( featuresTrain, outcomeTrain )\n",
    "# test set\n",
    "predTreeTest = modelTree.predict( featuresTest )\n",
    "# run confusion matrix\n",
    "cmTreeTest = sklearn.metrics.confusion_matrix( outcomeTest, predTreeTest )\n",
    "sklearn.metrics.ConfusionMatrixDisplay( cmTreeTest, display_labels=modelTree.classes_).plot()"
   ]
  },
  {
   "cell_type": "code",
   "execution_count": 20,
   "id": "67854862-da72-4cc3-9899-297e9c205cbb",
   "metadata": {},
   "outputs": [
    {
     "data": {
      "text/plain": [
       "0.7178333333333333"
      ]
     },
     "execution_count": 20,
     "metadata": {},
     "output_type": "execute_result"
    }
   ],
   "source": [
    "sklearn.metrics.accuracy_score( outcomeTest, predTreeTest )\n",
    "# worse. Let's try something else"
   ]
  },
  {
   "cell_type": "markdown",
   "id": "d925ba41-1136-429e-80bb-f53bd14b4f28",
   "metadata": {},
   "source": [
    "### neural network"
   ]
  },
  {
   "cell_type": "code",
   "execution_count": 21,
   "id": "138df919-465a-413a-abff-03ce53b13eb3",
   "metadata": {},
   "outputs": [],
   "source": [
    "import sklearn.neural_network\n",
    "modelNeural = sklearn.neural_network.MLPClassifier( hidden_layer_sizes=(20,10) )\n",
    "resultNeural = modelNeural.fit(featuresTrain, outcomeTrain)"
   ]
  },
  {
   "cell_type": "code",
   "execution_count": 22,
   "id": "a1675793-3343-4908-8162-acd26f2bce4a",
   "metadata": {},
   "outputs": [
    {
     "data": {
      "text/plain": [
       "<sklearn.metrics._plot.confusion_matrix.ConfusionMatrixDisplay at 0x14a026350>"
      ]
     },
     "execution_count": 22,
     "metadata": {},
     "output_type": "execute_result"
    },
    {
     "data": {
      "image/png": "[encoded data removed]",
      "text/plain": [
       "<Figure size 432x288 with 2 Axes>"
      ]
     },
     "metadata": {
      "needs_background": "light"
     },
     "output_type": "display_data"
    }
   ],
   "source": [
    "predNeuralTest = modelNeural.predict(featuresTest)\n",
    "cmNeuralTest = sklearn.metrics.confusion_matrix( outcomeTest, predNeuralTest )\n",
    "sklearn.metrics.ConfusionMatrixDisplay( cmNeuralTest, display_labels=modelNeural.classes_ ).plot()"
   ]
  },
  {
   "cell_type": "markdown",
   "id": "78856182-7971-4a05-a922-577c0e72cfd3",
   "metadata": {},
   "source": [
    "sklearn.metrics.accuracy_score( outcomeTest,predNeuralTest)"
   ]
  },
  {
   "cell_type": "markdown",
   "id": "e0ea50a8-5271-460b-b129-f4effabb5132",
   "metadata": {},
   "source": [
    "### Try Naive Bayes "
   ]
  },
  {
   "cell_type": "code",
   "execution_count": 23,
   "id": "503c2121-2a73-4454-99ee-69b134fd50c8",
   "metadata": {},
   "outputs": [],
   "source": [
    "# This assumes features independent - so might not be accurate"
   ]
  },
  {
   "cell_type": "code",
   "execution_count": 24,
   "id": "19c7ef6a",
   "metadata": {},
   "outputs": [],
   "source": [
    "from sklearn.naive_bayes import GaussianNB\n",
    "naive_classifier = GaussianNB()\n",
    "modelNB = naive_classifier.fit(featuresTrain, outcomeTrain)"
   ]
  },
  {
   "cell_type": "code",
   "execution_count": 25,
   "id": "e0277711",
   "metadata": {},
   "outputs": [
    {
     "data": {
      "text/plain": [
       "<sklearn.metrics._plot.confusion_matrix.ConfusionMatrixDisplay at 0x14a058a60>"
      ]
     },
     "execution_count": 25,
     "metadata": {},
     "output_type": "execute_result"
    },
    {
     "data": {
      "image/png": "[encoded data removed]",
      "text/plain": [
       "<Figure size 432x288 with 2 Axes>"
      ]
     },
     "metadata": {
      "needs_background": "light"
     },
     "output_type": "display_data"
    }
   ],
   "source": [
    "predNBTest = modelNB.predict(featuresTest)\n",
    "cmNBTest = sklearn.metrics.confusion_matrix( outcomeTest, predNBTest )\n",
    "sklearn.metrics.ConfusionMatrixDisplay( cmNBTest, display_labels=modelNB.classes_ ).plot()"
   ]
  },
  {
   "cell_type": "code",
   "execution_count": 26,
   "id": "0123db73",
   "metadata": {},
   "outputs": [
    {
     "data": {
      "text/plain": [
       "0.8238333333333333"
      ]
     },
     "execution_count": 26,
     "metadata": {},
     "output_type": "execute_result"
    }
   ],
   "source": [
    "sklearn.metrics.accuracy_score( outcomeTest, predNBTest )\n",
    "# a little better this time"
   ]
  },
  {
   "cell_type": "code",
   "execution_count": 27,
   "id": "f1a22978",
   "metadata": {},
   "outputs": [
    {
     "data": {
      "text/plain": [
       "<sklearn.metrics._plot.confusion_matrix.ConfusionMatrixDisplay at 0x14a024ac0>"
      ]
     },
     "execution_count": 27,
     "metadata": {},
     "output_type": "execute_result"
    },
    {
     "data": {
      "image/png": "[encoded data removed]",
      "text/plain": [
       "<Figure size 432x288 with 2 Axes>"
      ]
     },
     "metadata": {
      "needs_background": "light"
     },
     "output_type": "display_data"
    }
   ],
   "source": [
    "# random forest \n",
    "import sklearn.ensemble\n",
    "Forest = sklearn.ensemble.RandomForestClassifier(n_estimators = 1000, max_depth = 10)\n",
    "modelForest = Forest.fit(featuresTrain, outcomeTrain)\n",
    "predForestTest = modelForest.predict(featuresTest)\n",
    "cmForestTest = sklearn.metrics.confusion_matrix( outcomeTest, predForestTest )\n",
    "sklearn.metrics.ConfusionMatrixDisplay( cmForestTest, display_labels=modelForest.classes_ ).plot()"
   ]
  },
  {
   "cell_type": "code",
   "execution_count": 28,
   "id": "8f50fb6c",
   "metadata": {},
   "outputs": [
    {
     "data": {
      "text/plain": [
       "0.8241666666666667"
      ]
     },
     "execution_count": 28,
     "metadata": {},
     "output_type": "execute_result"
    }
   ],
   "source": [
    "sklearn.metrics.accuracy_score( outcomeTest, predForestTest )\n",
    "# almost the same"
   ]
  }
 ],
 "metadata": {
  "kernelspec": {
   "display_name": "Python 3 (ipykernel)",
   "language": "python",
   "name": "python3"
  },
  "language_info": {
   "codemirror_mode": {
    "name": "ipython",
    "version": 3
   },
   "file_extension": ".py",
   "mimetype": "text/x-python",
   "name": "python",
   "nbconvert_exporter": "python",
   "pygments_lexer": "ipython3",
   "version": "3.10.3"
  }
 },
 "nbformat": 4,
 "nbformat_minor": 5
}
